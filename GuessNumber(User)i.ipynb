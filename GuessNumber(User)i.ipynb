{
  "nbformat": 4,
  "nbformat_minor": 0,
  "metadata": {
    "colab": {
      "private_outputs": true,
      "provenance": [],
      "authorship_tag": "ABX9TyPNP6bbvNU+b90HZiQp5gDg",
      "include_colab_link": true
    },
    "kernelspec": {
      "name": "python3",
      "display_name": "Python 3"
    },
    "language_info": {
      "name": "python"
    }
  },
  "cells": [
    {
      "cell_type": "markdown",
      "metadata": {
        "id": "view-in-github",
        "colab_type": "text"
      },
      "source": [
        "<a href=\"https://colab.research.google.com/github/tehmik3/guess_num2/blob/main/GuessNumber(User)i.ipynb\" target=\"_parent\"><img src=\"https://colab.research.google.com/assets/colab-badge.svg\" alt=\"Open In Colab\"/></a>"
      ]
    },
    {
      "cell_type": "markdown",
      "source": [
        "\n",
        "# Guess The Number (User)"
      ],
      "metadata": {
        "id": "kp5UUDL2ty_m"
      }
    },
    {
      "cell_type": "code",
      "execution_count": null,
      "metadata": {
        "id": "rXgdS1axtmro"
      },
      "outputs": [],
      "source": [
        "import random\n",
        "\n",
        "def computer_guess(x):\n",
        "  low = 1\n",
        "  high = x\n",
        "  feedback = \"\"\n",
        "  while feedback != \"c\":\n",
        "    if low != high:\n",
        "      guess = random.randint(low, high)\n",
        "    else:\n",
        "      guess = low\n",
        "    feedback = input(f\"Is {guess} Too High (H), Too Low (L), or Correct (C)??\").lower()\n",
        "    if feedback == \"h\":\n",
        "      high = guess - 1\n",
        "    elif feedback == \"l\":\n",
        "      low = guess + 1\n",
        "\n",
        "  print(f\"yay! The computer guessed your number, {guess}, correctly!\")\n",
        "\n",
        "computer_guess(100)"
      ]
    },
    {
      "cell_type": "markdown",
      "source": [],
      "metadata": {
        "id": "bgyUV2cStv0m"
      }
    }
  ]
}